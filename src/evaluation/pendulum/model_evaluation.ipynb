{
 "cells": [
  {
   "cell_type": "markdown",
   "metadata": {},
   "source": [
    "# Evaluation pendulum"
   ]
  },
  {
   "cell_type": "code",
   "execution_count": 1,
   "metadata": {},
   "outputs": [],
   "source": [
    "import os\n",
    "import yaml\n",
    "import json\n",
    "\n",
    "import torch\n",
    "\n",
    "from matplotlib import pyplot as plt\n",
    "import numpy as np\n",
    "\n",
    "from src.nnets import MLPConditionalGenerator, get_mlp_discriminator\n",
    "from src.nnets import NeuralPendulum\n",
    "from src.forward_models.pendulum.pendulum_model import SimplePendulum, PendulumSolver\n",
    "\n",
    "from src.data_loader.config_data_loader import (\n",
    "    get_x_params_sampler,\n",
    ")\n",
    "\n",
    "from src.data_loader.config_data_loader import SimulatorDataset, SimulationSampler\n",
    "from src.nnets.utils import load_model\n",
    "\n",
    "\n",
    "from src.metrics.mmd import MMDLoss, RBF, estimate_mmd_bandwidth\n",
    "from src.data_loader.data_loader import get_data_loader\n"
   ]
  },
  {
   "cell_type": "code",
   "execution_count": 2,
   "metadata": {},
   "outputs": [],
   "source": [
    "def plot_traj(t, test_params, test_sims, pred, X_params, X_sims, X_init_conds,\n",
    "            n_plot_samples=10, rnd_samples=True, save_path=None):\n",
    "    # Predict the trajectories\n",
    "    # Plot the predicted trajectories\n",
    "\n",
    "    for i in range(n_plot_samples):\n",
    "        if rnd_samples:\n",
    "            idx = np.random.randint(0, len(test_params))\n",
    "        else:\n",
    "            idx = i\n",
    "        idx = np.random.randint(0, len(test_params))\n",
    "        print(f\"Sample {idx}\")\n",
    "\n",
    "        fig = plt.figure(figsize=(6, 6))\n",
    "        ax0 = fig.add_subplot(111)\n",
    "\n",
    "        # incomplete trajectories\n",
    "\n",
    "        ax0.plot(t, X_sims[idx].tolist(), color=\"gray\", label=\"Part\", alpha=0.4)\n",
    "\n",
    "        # complete trajectories\n",
    "        for j in range(len(test_sims[idx])):\n",
    "            ax0.plot(t, test_sims[idx][j].tolist(), color=\"blue\", label=\"Full\", alpha=0.4)\n",
    "        \n",
    "        # predicted params\n",
    "        for j in range(len(pred[idx])):\n",
    "            ax0.plot(t, pred[idx][j].tolist(), color=\"orange\", label=\"Pred\", alpha=0.6)\n",
    "        \n",
    "        init_cond = X_init_conds[idx][0].item()\n",
    "        param_1 = X_params[idx][0].item()\n",
    "        param_2 = test_params[idx][0][1].item()\n",
    "        if test_params[idx][0].shape[0] > 2:\n",
    "            param_3 = test_params[idx][0][2].item()\n",
    "        else:\n",
    "            param_3 = 0\n",
    "        if test_params[idx][0].shape[0] > 3:\n",
    "            param_4 = test_params[idx][0][3].item()\n",
    "        else:\n",
    "            param_4 = 0\n",
    "        \n",
    "        title= r\"Full: $\\vartheta_0$={:.2f}, $\\omega$={:.2f}, $\\xi$={:.2f}, A={:.2f}, $\\phi$={:.2f}\".format(\n",
    "                                init_cond, param_1, param_2, param_3, param_4\n",
    "                            )\n",
    "        \n",
    "        handles, labels = ax0.get_legend_handles_labels()\n",
    "        by_label = dict(zip(labels, handles))\n",
    "        plt.legend(by_label.values(), by_label.keys(), loc='upper right')\n",
    "        ax0.set_xlabel(\"Time\")\n",
    "        ax0.set_ylabel(\"Angle\")\n",
    "        ax0.set_title(title)\n",
    "        if save_path is not None:\n",
    "            plt.savefig(save_path + f\"/{idx}.png\")\n",
    "        plt.show()"
   ]
  },
  {
   "cell_type": "code",
   "execution_count": 3,
   "metadata": {},
   "outputs": [],
   "source": [
    "# Multidimensional Mean square root error\n",
    "def rmse(y_true, y_pred):\n",
    "    return torch.sqrt(torch.mean((torch.tensor(y_true) - torch.tensor(y_pred))**2, dim=1))\n",
    "\n",
    "# Multidimensional Relative Mean square root error\n",
    "def relative_rmse(y_true, y_pred):\n",
    "    return torch.sqrt(torch.mean(((torch.tensor(y_true) - torch.tensor(y_pred)) / torch.tensor(y_true))**2, dim=1))"
   ]
  },
  {
   "cell_type": "code",
   "execution_count": 4,
   "metadata": {},
   "outputs": [],
   "source": [
    "task_name = \"pendulum\"\n",
    "# d9f46b9158a67a005d7ab3f3b99924d3 many modes \n",
    "#3c3163b57df8772092d4f07e4b1d3884 many modes many sampls z=80\n",
    "# d717946223abddcb61ade980a7d7d3da one mode\n",
    "\n",
    "test_exp_name = \"ab3c7ed9be53f93b31ea13deba72659a\"\n",
    "dataset_file_path = f\"../../../datasets/forward_models/pendulum/one_to_many/many_modes/testing/data_{test_exp_name}\"\n",
    "method=\"rk4\"\n",
    "\n",
    "\n",
    "device = torch.device(\"cuda\" if torch.cuda.is_available() else \"cpu\")\n",
    "test_dataset = SimulatorDataset(\n",
    "    name_dataset=task_name,\n",
    "    data_file_path=dataset_file_path,\n",
    "    testing_set=True,\n",
    "    device=device,\n",
    ")\n",
    "test_loader = get_data_loader(test_dataset, batch_size=1024)"
   ]
  },
  {
   "cell_type": "code",
   "execution_count": null,
   "metadata": {},
   "outputs": [],
   "source": [
    "test_samples = test_loader.sample()\n",
    "test_params = test_samples[\"params\"]\n",
    "test_sims = test_samples[\"x\"]\n",
    "test_init_conds = test_samples[\"init_conds\"]\n",
    "print(test_params.shape)\n",
    "print(test_sims.shape)"
   ]
  },
  {
   "cell_type": "code",
   "execution_count": null,
   "metadata": {},
   "outputs": [],
   "source": [
    "# Retrieve the parameters and initial conditions for the incomplete model\n",
    "param_dim = 1\n",
    "noisy_samples = test_params.shape[\n",
    "    1\n",
    "]  # number of stochastic samples\n",
    "\n",
    "print(f\"Test number of noisy samples per parameter: {noisy_samples}\" )\n",
    "X_params = test_params[:, :, :param_dim]\n",
    "X_params = X_params.reshape(-1, param_dim)\n",
    "X_params = X_params[::noisy_samples]\n",
    "X_init_conds = test_init_conds.reshape(\n",
    "    -1, test_init_conds.shape[-1]\n",
    ")\n",
    "X_init_conds = X_init_conds[::noisy_samples]\n",
    "phys_model = PendulumSolver(\n",
    "    len_episode=test_dataset.conf_data[\"len_episode\"],\n",
    "    dt=test_dataset.conf_data[\"dt\"],\n",
    "    method=method)\n",
    "res_sims = phys_model(init_conds=X_init_conds, params=X_params)\n",
    "X_sims = res_sims[\"x\"]\n",
    "\n",
    "# Print shapes\n",
    "print(X_params.shape)\n",
    "print(X_init_conds.shape)\n",
    "print(X_sims.shape)\n",
    "\n",
    "t = torch.linspace(0.0, phys_model.dt * (test_sims.shape[-1] - 1), test_sims.shape[-1])\n",
    "save_path = f\"../../../outputs/figures/pendulum/{test_exp_name}\"\n"
   ]
  },
  {
   "cell_type": "code",
   "execution_count": null,
   "metadata": {},
   "outputs": [],
   "source": [
    "# Load T Generative Model\n",
    "#many mode \n",
    "from src.train.ot_physics.utils import freeze\n",
    "#path_model_file = f\"../../../outputs/best_models/pendulum/3c316/marginal_score/c2st/best_ot/bb98da8acfc24506d5ff553ea9ee1dd3/4XAj_score_0.8606_epoch_1000/model_041da91b5da0d6e000275a5809966dec_exp_bb98da8acfc24506d5ff553ea9ee1dd3_126ccdcd5e2a45a2aafb643e8a5956fa_salt_4XAj_final.pt\"\n",
    "#path_model_file = f\"../../../outputs/best_models/pendulum/two-modes/marginal_score/mmd/ot/24_10_24/bb98da8acfc24506d5ff553ea9ee1dd3/tMla_score_0.0036_epoch_16800/model_7872786aacc0c1fbe240105e860b6283_exp_bb98da8acfc24506d5ff553ea9ee1dd3_126ccdcd5e2a45a2aafb643e8a5956fa_salt_tMla_final.pt\"\n",
    "path_model_file = f\"../../../multirun/2024-11-15/16-13-20/2/checkpoints/gW50/model_e8530c60a7875371df4b99bc3e63916b_exp_b0af176f7b1d439550e605188cbc1138_0c4be06cb37e9cdb02c2f92076ff3bef_salt_gW50_final.pt\"\n",
    "\n",
    "# 2 modes model\n",
    "#path_model_file = f\"../../../outputs/best_models/pendulum/d7179/marginal_score/bb98da8acfc24506d5ff553ea9ee1dd3_79f7b854121ce744e06e889d40b4e6d0/6L2l_score_0.0091_epoch_8000/model_82aafdf137d20aee5e42064fbc4dcd35_exp_bb98da8acfc24506d5ff\n",
    "\n",
    "T_model, parent_dir, config, dic_chkpt = load_model(\n",
    "            path_model_file=path_model_file,\n",
    "        )\n",
    "f_state = dic_chkpt[\"f_model_state_dict\"]\n",
    "\n",
    "freeze(T_model)\n",
    "dic_chkpt[\"epoch\"]"
   ]
  },
  {
   "cell_type": "markdown",
   "metadata": {},
   "source": [
    "## OT OdeNET"
   ]
  },
  {
   "cell_type": "markdown",
   "metadata": {},
   "source": [
    "## Conditional samples"
   ]
  },
  {
   "cell_type": "code",
   "execution_count": 31,
   "metadata": {},
   "outputs": [],
   "source": [
    "# \n",
    "T_noisy_samples = noisy_samples\n",
    "z_dist = config[\"z_dist\"] if \"z_dist\" in config else \"gauss\"\n",
    "pred = T_model.predict(X_sims, context=X_params, z_samples=T_noisy_samples, z_type_dist=z_dist)"
   ]
  },
  {
   "cell_type": "code",
   "execution_count": null,
   "metadata": {},
   "outputs": [],
   "source": [
    "# you should do l2 norm instead of mean dim(1) and later max and min\n",
    "print((torch.norm(pred.reshape(-1, 50), dim=1)  - torch.norm(test_sims.reshape(-1, 50), dim=1)).mean())\n",
    "print((torch.norm(pred.reshape(-1, 50), dim=1)  - torch.norm(test_sims.reshape(-1, 50), dim=1)).max())\n",
    "print((torch.norm(pred.reshape(-1, 50), dim=1)  - torch.norm(test_sims.reshape(-1, 50), dim=1)).min())"
   ]
  },
  {
   "cell_type": "code",
   "execution_count": null,
   "metadata": {},
   "outputs": [],
   "source": [
    "os.makedirs(save_path+\"/lik\", exist_ok=True)\n",
    "plot_traj(t, test_params, test_sims, pred, X_params, X_sims, X_init_conds, save_path=save_path+\"/lik\")"
   ]
  },
  {
   "cell_type": "code",
   "execution_count": 34,
   "metadata": {},
   "outputs": [],
   "source": [
    "del pred"
   ]
  },
  {
   "cell_type": "markdown",
   "metadata": {},
   "source": [
    "## Marginal samples"
   ]
  },
  {
   "cell_type": "code",
   "execution_count": 35,
   "metadata": {},
   "outputs": [],
   "source": [
    "n_samples = 200\n",
    "rnd = np.random.randint(0, len(X_sims))\n",
    "idx = np.random.randint(0, len(X_sims), n_samples)"
   ]
  },
  {
   "cell_type": "code",
   "execution_count": 36,
   "metadata": {},
   "outputs": [],
   "source": [
    "# Only Marginals Plots\n",
    "X_init_conds = test_init_conds.reshape(-1, 2)[::noisy_samples]\n",
    "x_params_sampler = get_x_params_sampler(\n",
    "                        config, device=device\n",
    "                    )\n",
    "init_conds = X_init_conds[idx]\n",
    "X_params = x_params_sampler.sample((init_conds.shape[0],))\n",
    "res_x_sims = phys_model(init_conds=init_conds, params=X_params)\n",
    "X_sims = res_x_sims[\"x\"]\n",
    "\n",
    "pred = T_model.predict(X_sims, context=X_params, z_samples=noisy_samples, z_type_dist=z_dist)"
   ]
  },
  {
   "cell_type": "code",
   "execution_count": null,
   "metadata": {},
   "outputs": [],
   "source": [
    "torch.isclose(pred.reshape(-1, test_sims.shape[-1])[:, 0 ], test_sims[idx].reshape(-1, test_sims.shape[-1])[:, 0 ]).all()"
   ]
  },
  {
   "cell_type": "code",
   "execution_count": 38,
   "metadata": {},
   "outputs": [],
   "source": [
    "t = torch.linspace(0.0, phys_model.dt * (test_sims.shape[-1] - 1), test_sims.shape[-1])"
   ]
  },
  {
   "cell_type": "code",
   "execution_count": null,
   "metadata": {},
   "outputs": [],
   "source": [
    "fig, axes = plt.subplots(1, 1, figsize=(6, 6))\n",
    "#axes.plot(t, X_sims[idx].tolist(), color=\"gray\", label=\"Part\", alpha=0.4)\n",
    "y_hat = pred.reshape(-1, 50)\n",
    "y = test_sims[idx].reshape(-1, 50)\n",
    "t = t.repeat((y_hat.shape[0], 1))\n",
    "for i in range(len(y_hat)):\n",
    "    axes.plot(t[i], y_hat[i].tolist(), color=\"orange\", label=\"Pred\", alpha=0.35)\n",
    "    axes.plot(t[i], y[i].tolist(), color=\"blue\", label=\"True\", alpha=0.3)\n",
    "\n",
    "axes.set_xlabel(\"Time\")\n",
    "axes.set_ylabel(\"Angle\")\n",
    "os.makedirs(save_path+\"/marginals\", exist_ok=True)\n",
    "if save_path is not None:\n",
    "    plt.savefig(save_path+\"/marginals/\" + f\"/{rnd}.png\")\n",
    "#plt.show()"
   ]
  },
  {
   "cell_type": "markdown",
   "metadata": {},
   "source": [
    "## Check conditional many samples"
   ]
  },
  {
   "cell_type": "code",
   "execution_count": 39,
   "metadata": {},
   "outputs": [],
   "source": [
    "from src.sampler.distributions import BoxUniformSampler\n",
    "n_samples = 50\n",
    "params_samples = int(50)\n",
    "t = torch.linspace(0.0, phys_model.dt * (test_sims.shape[-1] - 1), test_sims.shape[-1])\n",
    "\n",
    "rnd = np.random.randint(0, len(test_init_conds))\n",
    "idx = np.random.randint(0, len(test_init_conds), n_samples)\n",
    "init_cond_sampler = BoxUniformSampler(torch.tensor([-1.57, 0], device=device), torch.tensor([1.57, 0], device=device), device=device)\n",
    "init_conds = init_cond_sampler.sample((n_samples,))\n",
    "\n",
    "x_params_sampler = get_x_params_sampler(\n",
    "                        config, device=device\n",
    "                    )\n",
    "X_params = x_params_sampler.sample((init_conds.shape[0],))\n",
    "\n",
    "param_1_lb = 0.2\n",
    "param_1_ub = 1.5\n",
    "y_params_sampler = BoxUniformSampler(torch.tensor([param_1_lb], device=device), torch.tensor([param_1_ub], device=device), device=device)\n",
    "y_params = y_params_sampler.sample((n_samples, params_samples))\n",
    "y_params = y_params.reshape(n_samples, params_samples, 1)\n"
   ]
  },
  {
   "cell_type": "code",
   "execution_count": null,
   "metadata": {},
   "outputs": [],
   "source": [
    "print(X_params.shape, init_conds.shape, y_params.shape)\n",
    "tmp_X = X_params.repeat((1, params_samples)).reshape(-1, params_samples, 1)\n",
    "params = torch.cat([tmp_X, y_params], dim=-1)\n",
    "print(params.shape)"
   ]
  },
  {
   "cell_type": "code",
   "execution_count": 41,
   "metadata": {},
   "outputs": [],
   "source": [
    "# source samples (incomplete model)\n",
    "X_sims = phys_model(\n",
    "        init_conds=init_conds.view(-1, init_conds.shape[-1]),\n",
    "        params=X_params.view(-1, X_params.shape[-1])\n",
    "    )[\"x\"].view(n_samples, -1)\n",
    "\n",
    "# target sampler\n",
    "# concat X params with y_params\n",
    "tmp_init_conds = init_conds.repeat((1,params_samples)).reshape(-1, params_samples, 2)\n",
    "y_sims = phys_model(\n",
    "        init_conds=tmp_init_conds.view(-1, init_conds.shape[-1]),\n",
    "        params=params.view(-1, params.shape[-1])\n",
    "    )[\"x\"].view(n_samples, params_samples, -1)"
   ]
  },
  {
   "cell_type": "code",
   "execution_count": null,
   "metadata": {},
   "outputs": [],
   "source": [
    "print(X_sims.shape, y_sims.shape)\n",
    "print(X_params.shape)"
   ]
  },
  {
   "cell_type": "code",
   "execution_count": null,
   "metadata": {},
   "outputs": [],
   "source": [
    "noisy_samples=params_samples\n",
    "# \n",
    "z_dist = config[\"z_dist\"] if \"z_dist\" in config else \"gauss\"\n",
    "pred = T_model.predict(\n",
    "        X=X_sims.view(-1, X_sims.shape[-1]),\n",
    "        context=X_params.view(-1, X_params.shape[-1]),\n",
    "        z_samples=noisy_samples,\n",
    "        z_type_dist=z_dist\n",
    "    )\n",
    "print(pred.shape)"
   ]
  },
  {
   "cell_type": "code",
   "execution_count": null,
   "metadata": {},
   "outputs": [],
   "source": [
    "print(X_sims.shape, y_sims.shape, pred.shape)"
   ]
  },
  {
   "cell_type": "code",
   "execution_count": null,
   "metadata": {},
   "outputs": [],
   "source": [
    "save_path"
   ]
  },
  {
   "cell_type": "code",
   "execution_count": null,
   "metadata": {},
   "outputs": [],
   "source": [
    "for i in range(n_samples):\n",
    "    idx = i\n",
    "    fig, axes = plt.subplots(1, 1, figsize=(12, 6))\n",
    "    ax0 = axes\n",
    "    # incomplete trajectories\n",
    "    ax0.plot(t, X_sims[idx].tolist(), color=\"gray\", label=\"Part\", alpha=0.2)\n",
    "\n",
    "    # complete trajectories\n",
    "    for k in range(len(y_sims[idx])):\n",
    "        ax0.plot(t, y_sims[idx][k].tolist(), color=\"blue\", label=\"Full\", alpha=0.35)\n",
    "    \n",
    "    # predicted params\n",
    "    for j in range(len(pred[idx])):\n",
    "        ax0.plot(t, pred[idx][j].tolist(), color=\"orange\", label=\"Pred\", alpha=0.35)\n",
    "\n",
    "    # Ground thruth min and max trajectories \n",
    "    x0 = init_conds[idx].repeat(2, 1)\n",
    "    param_0 = torch.tensor([\n",
    "                    [X_params[idx].item(), param_1_lb],\n",
    "                    [X_params[idx].item(), param_1_ub]\n",
    "                ],\n",
    "            device=device)\n",
    "        \n",
    "    min_max_y = phys_model(\n",
    "        init_conds=x0,\n",
    "        params=param_0\n",
    "    )[\"x\"]\n",
    "\n",
    "    for j in range(len(min_max_y)):\n",
    "        ax0.plot(t, min_max_y[j].tolist(), color=\"red\", label=\"Min/Max\", alpha=1)\n",
    "    \n",
    "    init_cond = X_init_conds[idx][0].item()\n",
    "    param_1 = X_params[idx][0].item()    \n",
    "    \n",
    "    title= r\"Idx{:} Full: $\\vartheta_0$={:.2f}, $\\omega$={:.2f}\".format(\n",
    "                            idx, init_cond, param_1 \n",
    "                        )\n",
    "    \n",
    "    handles, labels = ax0.get_legend_handles_labels()\n",
    "    by_label = dict(zip(labels, handles))\n",
    "    ax0.legend(by_label.values(), by_label.keys(), loc='upper right')\n",
    "    ax0.set_xlabel(\"Time\")\n",
    "    ax0.set_ylabel(\"Angle\")\n",
    "    ax0.set_title(title)\n",
    "\n",
    "    #fig.subplots_adjust(hspace=0.4)\n",
    "    os.makedirs(save_path+\"/\", exist_ok=True)    \n",
    "    plt.savefig(save_path + f\"/{idx}.png\")\n",
    "    plt.show()\n"
   ]
  },
  {
   "cell_type": "markdown",
   "metadata": {},
   "source": [
    "## C2ST score for conditional "
   ]
  },
  {
   "cell_type": "code",
   "execution_count": null,
   "metadata": {},
   "outputs": [],
   "source": [
    "from src.sampler.distributions import BoxUniformSampler\n",
    "n_samples = 5\n",
    "params_samples = int(1e4)\n",
    "t = torch.linspace(0.0, phys_model.dt * (test_sims.shape[-1] - 1), test_sims.shape[-1])\n",
    "\n",
    "rnd = np.random.randint(0, len(test_init_conds))\n",
    "idx = np.random.randint(0, len(test_init_conds), n_samples)\n",
    "init_cond_sampler = BoxUniformSampler(torch.tensor([-1.57, 0], device=device), torch.tensor([1.57, 0], device=device), device=device)\n",
    "init_conds = init_cond_sampler.sample((n_samples,))\n",
    "\n",
    "x_params_sampler = get_x_params_sampler(\n",
    "                        config, device=device\n",
    "                    )\n",
    "X_params = x_params_sampler.sample((init_conds.shape[0],))\n",
    "\n",
    "param_1_lb = 0.2\n",
    "param_1_ub = 1.5\n",
    "y_params_sampler = BoxUniformSampler(torch.tensor([param_1_lb], device=device), torch.tensor([param_1_ub], device=device), device=device)\n",
    "y_params = y_params_sampler.sample((n_samples, params_samples))\n",
    "\n",
    "print(X_params.shape, init_conds.shape, y_params.shape)\n",
    "tmp_X = X_params.repeat((1, params_samples)).reshape(-1, params_samples, 1)\n",
    "params = torch.cat([tmp_X, y_params], dim=-1)\n",
    "print(params.shape)\n",
    "\n",
    "# source samples (incomplete model)\n",
    "X_sims = phys_model(\n",
    "        init_conds=init_conds.view(-1, init_conds.shape[-1]),\n",
    "        params=X_params.view(-1, X_params.shape[-1])\n",
    "    )[\"x\"].view(n_samples, -1)\n",
    "\n",
    "# target sampler\n",
    "# concat X params with y_params\n",
    "tmp_init_conds = init_conds.repeat((1,params_samples)).reshape(-1, params_samples, 2)\n",
    "y_sims = phys_model(\n",
    "        init_conds=tmp_init_conds.view(-1, init_conds.shape[-1]),\n",
    "        params=params.view(-1, params.shape[-1])\n",
    "    )[\"x\"].view(n_samples, params_samples, -1)\n",
    "\n",
    "z_samples = int(1e4)\n",
    "pred = T_model.predict(\n",
    "        X=X_sims.view(-1, X_sims.shape[-1]),\n",
    "        context=X_params.view(-1, X_params.shape[-1]),\n",
    "        z_samples=z_samples\n",
    "    )\n",
    "print(pred.shape)\n",
    "print(y_sims.shape, pred.shape)"
   ]
  },
  {
   "cell_type": "code",
   "execution_count": null,
   "metadata": {},
   "outputs": [],
   "source": [
    "from src.metrics.c2st_torch import c2st\n",
    "scores = []\n",
    "\n",
    "for i in range(2):\n",
    "    c2st_score, _ = c2st(pred[i].to(device), y_sims[i].to(device))\n",
    "    scores.append(c2st_score)"
   ]
  },
  {
   "cell_type": "code",
   "execution_count": null,
   "metadata": {},
   "outputs": [],
   "source": [
    "scores"
   ]
  },
  {
   "cell_type": "markdown",
   "metadata": {},
   "source": [
    "# Vanilla OT"
   ]
  },
  {
   "cell_type": "markdown",
   "metadata": {},
   "source": [
    "## VANITALLA OT MLP"
   ]
  },
  {
   "cell_type": "code",
   "execution_count": null,
   "metadata": {},
   "outputs": [],
   "source": [
    "# Load T Generative Model\n",
    "#salt_model = \"43IY\"\n",
    "#dir_model= \"../../outputs/checkpoints/\" + salt_model\n",
    "t = torch.linspace(0.0, phys_model.dt * (test_sims.shape[-1] - 1), test_sims.shape[-1])\n",
    "path_model_file = \"../../../outputs/best_models/pendulum/0e992/bb/marginal_score/mmd/bb98da8acfc24506d5ff553ea9ee1dd3/uFsC_score_0.0362_epoch_43802/model_d5cb9a1c1bc2f77c518eaf33f81d1c83_exp_bb98da8acfc24506d5ff553ea9ee1dd3_0e99273f5187e7e8151a7929b3392bb4_salt_uFsC_best.pt\"\n",
    "#/ifhO/model_050d5bf7c16cad304eab5746e8da4e01_exp_99914b932bd37a50b983c5e7c90ae93b_8fea9929862bbc6572434bbefdcad037_salt_ifhO\n",
    "#/SaTt/model_e4dd69ffa34b36665286da8d99887128_exp_99914b932bd37a50b983c5e7c90ae93b_8fea9929862bbc6572434bbefdcad037_salt_SaTt\n",
    "T_model, phys_model, parent_dir, config = load_model(\n",
    "            path_model_file=path_model_file,\n",
    "            params_dim=X_params.shape[-1],\n",
    "        )"
   ]
  },
  {
   "cell_type": "code",
   "execution_count": null,
   "metadata": {},
   "outputs": [],
   "source": [
    "T_noisy_samples = noisy_samples\n",
    "pred = T_model.predict(X_sims, context=X_params, z_samples=T_noisy_samples)"
   ]
  },
  {
   "cell_type": "code",
   "execution_count": null,
   "metadata": {},
   "outputs": [],
   "source": [
    "plot_traj(t, test_params, test_sims, pred, X_params, X_sims, X_init_conds)"
   ]
  }
 ],
 "metadata": {
  "kernelspec": {
   "display_name": "ot-miss",
   "language": "python",
   "name": "python3"
  },
  "language_info": {
   "codemirror_mode": {
    "name": "ipython",
    "version": 3
   },
   "file_extension": ".py",
   "mimetype": "text/x-python",
   "name": "python",
   "nbconvert_exporter": "python",
   "pygments_lexer": "ipython3",
   "version": "3.9.19"
  }
 },
 "nbformat": 4,
 "nbformat_minor": 2
}
