{
 "cells": [
  {
   "cell_type": "markdown",
   "metadata": {},
   "source": [
    "# Advection Diffusion"
   ]
  },
  {
   "cell_type": "code",
   "execution_count": 20,
   "metadata": {},
   "outputs": [],
   "source": [
    "import torch\n",
    "from matplotlib import pyplot as plt\n",
    "import numpy as np\n",
    "from src.forward_models.advdiff import AdvDiffSolver\n",
    "from src.sampler.distributions import BoxUniformSampler"
   ]
  },
  {
   "cell_type": "code",
   "execution_count": 21,
   "metadata": {},
   "outputs": [
    {
     "name": "stdout",
     "output_type": "stream",
     "text": [
      "torch.Size([20])\n",
      "initial condition shape torch.Size([100, 20])\n",
      "params_a shape: torch.Size([2000, 1])\n",
      "simulations shape: torch.Size([100, 20, 50])\n"
     ]
    }
   ],
   "source": [
    "device = 'cpu'\n",
    "n_grids = 20\n",
    "len_episode = 50\n",
    "dx = 0.1\n",
    "dt = 0.02\n",
    "noise_std = 0. #1e-3\n",
    "\n",
    "torch.manual_seed(1234)\n",
    "np.random.seed(1234)\n",
    "\n",
    "# known parameters\n",
    "range_init_mag = (0.5, 1.5)\n",
    "range_dcoeff = (1e-2, 1e-1) # diffusion_coeff\n",
    "lb = torch.tensor([range_init_mag[0], range_dcoeff[0]], device=device)\n",
    "ub = torch.tensor([range_init_mag[1], range_dcoeff[1]], device=device)\n",
    "\n",
    "# unknown/missing term\n",
    "range_ccoeff = (1e-2, 1e-1) # unknown_params, convection_coeff \n",
    "c_coeff_lb, c_coeff_ub = torch.tensor([range_ccoeff[0]], device=device), torch.tensor([range_ccoeff[1]], device=device)\n",
    "\n",
    "# Sampler\n",
    "known_params_sampler = BoxUniformSampler(lb, ub)\n",
    "n_samples = 100\n",
    "samples = known_params_sampler.sample((n_samples,))\n",
    "# init conditions and boundaries\n",
    "init_conds= samples[:, 0].view(-1, 1)\n",
    "# Simple model simulations\n",
    "x_grid = torch.linspace(0.0, dx * (n_grids - 1), n_grids, device=device) # 20 \n",
    "init_sin = torch.sin(x_grid / x_grid[-1] * torch.pi)\n",
    "print(init_sin.shape)\n",
    "# broadcast init_conds * init_sin for boundaries conditions\n",
    "init_conds = init_conds * init_sin # n_samples x 20\n",
    "print(\"initial condition shape\", init_conds.shape)\n",
    "simple_model = AdvDiffSolver(dx=dx, dt=dt, len_episode=len_episode, n_grids=n_grids, noise_std=None, device=device, method=\"rk4\")\n",
    "params_a = samples[:, 1].view(-1, 1)\n",
    "d = params_a.shape[-1]\n",
    "params_a = params_a.reshape(-1, 1, d)\n",
    "params_a = params_a.repeat(1, n_grids, 1) #.reshape(-1, ic_params.shape[-1])\n",
    "params_a = params_a.view(-1, d)\n",
    "print(f\"params_a shape: {params_a.shape}\")\n",
    "x_res = simple_model(init_conds=init_conds, params=params_a)\n",
    "x_sims = x_res[\"x\"]\n",
    "print(f\"simulations shape: {x_sims.shape}\")"
   ]
  },
  {
   "cell_type": "code",
   "execution_count": 22,
   "metadata": {},
   "outputs": [
    {
     "data": {
      "text/plain": [
       "torch.Size([2000, 1])"
      ]
     },
     "execution_count": 22,
     "metadata": {},
     "output_type": "execute_result"
    }
   ],
   "source": [
    "params_a.shape"
   ]
  },
  {
   "cell_type": "code",
   "execution_count": 23,
   "metadata": {},
   "outputs": [
    {
     "name": "stdout",
     "output_type": "stream",
     "text": [
      "torch.Size([3, 20])\n",
      "tensor([0.0462])\n"
     ]
    }
   ],
   "source": [
    "print(params_a.reshape(-1, 20)[:3].unique(dim=0).shape)\n",
    "print(params_a.reshape(-1, 20)[:1].unique())"
   ]
  },
  {
   "cell_type": "code",
   "execution_count": 24,
   "metadata": {},
   "outputs": [
    {
     "name": "stdout",
     "output_type": "stream",
     "text": [
      "unknown_params : tensor([[0.0444],\n",
      "        [0.0875]]), torch.Size([2, 1])\n",
      "unknown_params shape: torch.Size([4000, 1])\n",
      "new_init_cond shape: torch.Size([200, 20])\n",
      "params shape: torch.Size([4000, 2])\n"
     ]
    }
   ],
   "source": [
    "# Complete model simulations with sampled convection term (stochastic one-to-many)\n",
    "unknown_params_sampler = BoxUniformSampler(c_coeff_lb, c_coeff_ub, device=device)\n",
    "noisy_samples = 2\n",
    "# Sample unknown parameters\n",
    "unknown_params = unknown_params_sampler.sample((noisy_samples,))\n",
    "print(f\"unknown_params : {unknown_params}, {unknown_params.shape}\")\n",
    "unknown_params = unknown_params.repeat(params_a.shape[0], 1)\n",
    "unknown_params = unknown_params.reshape(-1, unknown_params.shape[-1])\n",
    "print(f\"unknown_params shape: {unknown_params.shape}\")\n",
    "\n",
    "# Broadcast init_conds for noisy samples\n",
    "new_init_cond = init_conds.reshape(-1, 1, init_conds.shape[-1])\n",
    "new_init_cond = new_init_cond.repeat(1, noisy_samples, 1)\n",
    "new_init_cond = new_init_cond.reshape(-1, new_init_cond.shape[-1])\n",
    "print(f\"new_init_cond shape: {new_init_cond.shape}\")\n",
    "\n",
    "# Full parameters (known + unknown)\n",
    "params = params_a.reshape(-1, 1, params_a.shape[-1]).repeat(1, noisy_samples, 1).reshape(-1, params_a.shape[-1])\n",
    "params = torch.cat([params, unknown_params], dim=-1)\n",
    "print(f\"params shape: {params.shape}\")"
   ]
  },
  {
   "cell_type": "code",
   "execution_count": 25,
   "metadata": {},
   "outputs": [
    {
     "name": "stdout",
     "output_type": "stream",
     "text": [
      "Params shape: torch.Size([4000, 2])\n"
     ]
    },
    {
     "data": {
      "text/plain": [
       "tensor([[0.0398, 0.0444],\n",
       "        [0.0398, 0.0875],\n",
       "        [0.0430, 0.0444],\n",
       "        [0.0430, 0.0875],\n",
       "        [0.0462, 0.0444],\n",
       "        [0.0462, 0.0875],\n",
       "        [0.0521, 0.0444],\n",
       "        [0.0521, 0.0875],\n",
       "        [0.0731, 0.0444],\n",
       "        [0.0731, 0.0875]])"
      ]
     },
     "execution_count": 25,
     "metadata": {},
     "output_type": "execute_result"
    }
   ],
   "source": [
    "print(f\"Params shape: {params.shape}\")\n",
    "params[:200].unique(dim=0)"
   ]
  },
  {
   "cell_type": "code",
   "execution_count": 26,
   "metadata": {},
   "outputs": [
    {
     "data": {
      "text/plain": [
       "torch.Size([3, 20])"
      ]
     },
     "execution_count": 26,
     "metadata": {},
     "output_type": "execute_result"
    }
   ],
   "source": [
    "new_init_cond[:5].unique(dim=0).shape"
   ]
  },
  {
   "cell_type": "code",
   "execution_count": 27,
   "metadata": {},
   "outputs": [
    {
     "data": {
      "text/plain": [
       "(torch.Size([200, 20]), torch.Size([4000, 2]))"
      ]
     },
     "execution_count": 27,
     "metadata": {},
     "output_type": "execute_result"
    }
   ],
   "source": [
    "new_init_cond.shape, params.shape"
   ]
  },
  {
   "cell_type": "code",
   "execution_count": 28,
   "metadata": {},
   "outputs": [
    {
     "name": "stdout",
     "output_type": "stream",
     "text": [
      "simulations shape: torch.Size([200, 20, 50])\n"
     ]
    }
   ],
   "source": [
    "complete_model = AdvDiffSolver(dx=dx, dt=dt, len_episode=len_episode,  n_grids=n_grids, noise_std=noise_std, device=device, method=\"rk4\")\n",
    "y_res = complete_model(init_conds=new_init_cond, params=params)\n",
    "y_sims = y_res[\"x\"]\n",
    "print(f\"simulations shape: {y_sims.shape}\")"
   ]
  },
  {
   "cell_type": "code",
   "execution_count": 45,
   "metadata": {},
   "outputs": [
    {
     "name": "stdout",
     "output_type": "stream",
     "text": [
      "69\n",
      "Simple Model parameters \n",
      "tensor([0.0895])\n",
      "Complete Model parameters \n",
      "tensor([[[0.0895, 0.0444],\n",
      "         [0.0895, 0.0875]]])\n"
     ]
    },
    {
     "data": {
      "image/png": "[encoded data removed]",
      "text/plain": [
       "<Figure size 1000x2000 with 5 Axes>"
      ]
     },
     "metadata": {},
     "output_type": "display_data"
    }
   ],
   "source": [
    "random_idx = np.random.randint(0, n_samples)\n",
    "print(random_idx)\n",
    "#vmax = y_sims[random_idx: random_idx+noisy_samples].max()\n",
    "kwargs = {'vmin':0.0, 'aspect':3.5, 'cmap':'magma', 'interpolation':'none'}\n",
    "fig, axes = plt.subplots(1, noisy_samples+1, figsize=(10, 20))\n",
    "\n",
    "print(f\"Simple Model parameters \\n{params_a.reshape(-1, 20)[random_idx].unique()}\")\n",
    "print(f\"Complete Model parameters \\n{params.reshape(-1, 20, noisy_samples, 2)[random_idx].unique(dim=0)}\")\n",
    "\n",
    "axes[0].imshow(x_sims[random_idx].detach().cpu().numpy(), **kwargs)\n",
    "axes[0].set_title(f\"Simple model, coeff: {params_a.reshape(-1, 20)[random_idx].unique().item():.4f}\")\n",
    "\n",
    "for j in range(noisy_samples):\n",
    "    i = random_idx + j\n",
    "    pos = axes[j+1].imshow(x_sims[random_idx].detach().cpu().numpy() - y_sims[i].detach().cpu().numpy(), **kwargs)\n",
    "    axes[j+1].set_title(f\"+dcoeff: {unknown_params[i].item():.4f}\")\n",
    "    fig.colorbar(pos, ax=axes[j+1], shrink=5)"
   ]
  },
  {
   "cell_type": "markdown",
   "metadata": {},
   "source": [
    "# Load Dataset"
   ]
  },
  {
   "cell_type": "code",
   "execution_count": 29,
   "metadata": {},
   "outputs": [],
   "source": [
    "## Inspection of the training data\n",
    "tr_data = \"/home/jeet/Documents/phd/dmml/ot-model-misspecification/datasets/forward_models/advdiff/one_to_many/training/data_7294c286476eee876c2339f2ad3c5e4c\"\n",
    "n_stoch_samples = 5\n",
    "tr_data = torch.load(tr_data)\n",
    "tr_params = tr_data[\"params\"]\n",
    "tr_init_conds = tr_data[\"init_conds\"]\n",
    "tr_sims = tr_data[\"x\"]\n",
    "tr_sims = tr_sims.reshape(-1, n_stoch_samples, 20, 50)\n",
    "tr_params = tr_params.reshape(-1, n_stoch_samples, 20, 2)\n",
    "tr_init_conds = tr_init_conds.reshape(-1, n_stoch_samples, 20)\n",
    "\n",
    "phys_solver = AdvDiffSolver(\n",
    "    dx=0.1,\n",
    "    dt=0.02,\n",
    "    n_grids=20,\n",
    "    len_episode=50,\n",
    "    method=\"rk4\",\n",
    "    device=\"cpu\"\n",
    ")"
   ]
  },
  {
   "cell_type": "code",
   "execution_count": 30,
   "metadata": {},
   "outputs": [],
   "source": [
    "tmp = tr_sims.reshape(-1, 20, 50)"
   ]
  },
  {
   "cell_type": "code",
   "execution_count": null,
   "metadata": {},
   "outputs": [],
   "source": [
    "v_max = tr_sims.max().item()\n",
    "v_max"
   ]
  },
  {
   "cell_type": "code",
   "execution_count": null,
   "metadata": {},
   "outputs": [],
   "source": [
    "torch.min(tmp, dim=-1)[0].min(dim=0)"
   ]
  },
  {
   "cell_type": "code",
   "execution_count": null,
   "metadata": {},
   "outputs": [],
   "source": [
    "print(f\"Parameter shapes {tr_params.shape}\")\n",
    "print(tr_params[5, :, 1, 1])\n",
    "print(tr_sims.shape)\n",
    "print(tr_params[5, :, :, 1].unique(dim=-1))\n",
    "print(f\"Initial condition shape {tr_init_conds.shape}\")\n",
    "print(f\"Simulations shape {tr_sims.shape}\")"
   ]
  },
  {
   "cell_type": "code",
   "execution_count": null,
   "metadata": {},
   "outputs": [],
   "source": [
    "plot_samples = 2\n",
    "v_max = tr_sims.max().item()\n",
    "for j in range(0, plot_samples):\n",
    "    random_idx = 181 #np.random.randint(0, tr_sims.shape[0])\n",
    "    print(random_idx)\n",
    "    #vmax = tr_sims[random_idx, :noisy_samples].max()\n",
    "    #'vmax':vmax\n",
    "    kwargs = {'vmin':0.0, 'aspect':3.5, 'cmap':'magma', 'interpolation':'none'} #'vmax': v_max\n",
    "    fig, axes = plt.subplots(1, noisy_samples+1, figsize=(30, 15))\n",
    "    #plt.subplots_adjust(hspace=0.01)\n",
    "    # Simple Model\n",
    "    X_params = tr_params[random_idx, 0, :, :1].unsqueeze(0)\n",
    "    X_init_conds = tr_init_conds[random_idx, 0, :].unsqueeze(0)\n",
    "    X_sims = phys_solver(init_conds=X_init_conds, params=X_params)[\"x\"]\n",
    "\n",
    "    print(X_params.shape, X_init_conds.shape)\n",
    "    param_0 = X_params[0, :].unique()\n",
    "    print(f\"Simple Model parameters \\n{param_0}\")\n",
    "    c_params = tr_params[random_idx, :, :, 1].unique(dim=-1)\n",
    "    print(f\"Complete Model parameters \\n{c_params}\")\n",
    "\n",
    "    axes[0].imshow(X_sims[0].detach().cpu().numpy(), **kwargs)\n",
    "    axes[0].set_title(f\"Simple model, coeff: {param_0.item():.4f}\")\n",
    "\n",
    "    for i in range(noisy_samples):\n",
    "        # Target\n",
    "        axes[i+1].imshow(tr_sims[random_idx, i].detach().cpu().numpy(), **kwargs)\n",
    "        axes[i+1].set_title(f\"+dcoeff: {c_params[i][0]:.4f}\")\n",
    "    \n",
    "    plt.show()"
   ]
  },
  {
   "cell_type": "code",
   "execution_count": null,
   "metadata": {},
   "outputs": [],
   "source": []
  }
 ],
 "metadata": {
  "kernelspec": {
   "display_name": "ot-miss",
   "language": "python",
   "name": "python3"
  },
  "language_info": {
   "codemirror_mode": {
    "name": "ipython",
    "version": 3
   },
   "file_extension": ".py",
   "mimetype": "text/x-python",
   "name": "python",
   "nbconvert_exporter": "python",
   "pygments_lexer": "ipython3",
   "version": "3.9.19"
  }
 },
 "nbformat": 4,
 "nbformat_minor": 2
}
